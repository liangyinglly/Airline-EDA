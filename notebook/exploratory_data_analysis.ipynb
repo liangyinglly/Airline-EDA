{
 "cells": [
  {
   "cell_type": "markdown",
   "id": "69828b3f-3a18-4b94-8e05-3caa056700ff",
   "metadata": {},
   "source": [
    "## Exploratory Data Analysis ##\n",
    "In this assignment, we will be exploring some airline data that has been collected measuring the lateness of various airlines.  Refer to the rubric below for the grading criteria.  For the below you'll need jupyter and python installed on your machine as well as matplotlib and pandas.  "
   ]
  },
  {
   "cell_type": "code",
   "execution_count": 57,
   "id": "d761ff73-3e53-432d-9bb6-f1c9d820f677",
   "metadata": {},
   "outputs": [],
   "source": [
    "import pandas as pd\n",
    "import matplotlib.pyplot as plt\n",
    "from scipy.stats import trim_mean\n",
    "import seaborn as sns"
   ]
  },
  {
   "cell_type": "markdown",
   "id": "7cc9c50a-ef93-4559-8d93-0639d84151c1",
   "metadata": {},
   "source": [
    "### 1 Load the airline_dataset.csv dataset into a DataFrame. ###"
   ]
  },
  {
   "cell_type": "code",
   "execution_count": 58,
   "id": "55a7b897-0bd5-459a-8fc6-7cbc8faf75d3",
   "metadata": {},
   "outputs": [
    {
     "data": {
      "text/html": [
       "<div>\n",
       "<style scoped>\n",
       "    .dataframe tbody tr th:only-of-type {\n",
       "        vertical-align: middle;\n",
       "    }\n",
       "\n",
       "    .dataframe tbody tr th {\n",
       "        vertical-align: top;\n",
       "    }\n",
       "\n",
       "    .dataframe thead th {\n",
       "        text-align: right;\n",
       "    }\n",
       "</style>\n",
       "<table border=\"1\" class=\"dataframe\">\n",
       "  <thead>\n",
       "    <tr style=\"text-align: right;\">\n",
       "      <th></th>\n",
       "      <th>pct_carrier_delay</th>\n",
       "      <th>pct_atc_delay</th>\n",
       "      <th>pct_weather_delay</th>\n",
       "      <th>airline</th>\n",
       "    </tr>\n",
       "  </thead>\n",
       "  <tbody>\n",
       "    <tr>\n",
       "      <th>0</th>\n",
       "      <td>8.153226</td>\n",
       "      <td>1.971774</td>\n",
       "      <td>0.762097</td>\n",
       "      <td>American</td>\n",
       "    </tr>\n",
       "    <tr>\n",
       "      <th>1</th>\n",
       "      <td>5.959924</td>\n",
       "      <td>3.706107</td>\n",
       "      <td>1.585878</td>\n",
       "      <td>American</td>\n",
       "    </tr>\n",
       "    <tr>\n",
       "      <th>2</th>\n",
       "      <td>7.157270</td>\n",
       "      <td>2.706231</td>\n",
       "      <td>2.026706</td>\n",
       "      <td>American</td>\n",
       "    </tr>\n",
       "    <tr>\n",
       "      <th>3</th>\n",
       "      <td>12.100000</td>\n",
       "      <td>11.033333</td>\n",
       "      <td>0.000000</td>\n",
       "      <td>American</td>\n",
       "    </tr>\n",
       "    <tr>\n",
       "      <th>4</th>\n",
       "      <td>7.333333</td>\n",
       "      <td>3.365591</td>\n",
       "      <td>1.774194</td>\n",
       "      <td>American</td>\n",
       "    </tr>\n",
       "    <tr>\n",
       "      <th>...</th>\n",
       "      <td>...</td>\n",
       "      <td>...</td>\n",
       "      <td>...</td>\n",
       "      <td>...</td>\n",
       "    </tr>\n",
       "    <tr>\n",
       "      <th>33463</th>\n",
       "      <td>6.186422</td>\n",
       "      <td>8.798491</td>\n",
       "      <td>1.651940</td>\n",
       "      <td>Southwest</td>\n",
       "    </tr>\n",
       "    <tr>\n",
       "      <th>33464</th>\n",
       "      <td>9.522167</td>\n",
       "      <td>3.591133</td>\n",
       "      <td>0.261084</td>\n",
       "      <td>Southwest</td>\n",
       "    </tr>\n",
       "    <tr>\n",
       "      <th>33465</th>\n",
       "      <td>9.164179</td>\n",
       "      <td>2.664179</td>\n",
       "      <td>0.343284</td>\n",
       "      <td>Southwest</td>\n",
       "    </tr>\n",
       "    <tr>\n",
       "      <th>33466</th>\n",
       "      <td>5.152293</td>\n",
       "      <td>1.964520</td>\n",
       "      <td>0.122817</td>\n",
       "      <td>Southwest</td>\n",
       "    </tr>\n",
       "    <tr>\n",
       "      <th>33467</th>\n",
       "      <td>3.964393</td>\n",
       "      <td>1.700479</td>\n",
       "      <td>0.019449</td>\n",
       "      <td>Southwest</td>\n",
       "    </tr>\n",
       "  </tbody>\n",
       "</table>\n",
       "<p>33468 rows × 4 columns</p>\n",
       "</div>"
      ],
      "text/plain": [
       "       pct_carrier_delay  pct_atc_delay  pct_weather_delay    airline\n",
       "0               8.153226       1.971774           0.762097   American\n",
       "1               5.959924       3.706107           1.585878   American\n",
       "2               7.157270       2.706231           2.026706   American\n",
       "3              12.100000      11.033333           0.000000   American\n",
       "4               7.333333       3.365591           1.774194   American\n",
       "...                  ...            ...                ...        ...\n",
       "33463           6.186422       8.798491           1.651940  Southwest\n",
       "33464           9.522167       3.591133           0.261084  Southwest\n",
       "33465           9.164179       2.664179           0.343284  Southwest\n",
       "33466           5.152293       1.964520           0.122817  Southwest\n",
       "33467           3.964393       1.700479           0.019449  Southwest\n",
       "\n",
       "[33468 rows x 4 columns]"
      ]
     },
     "execution_count": 58,
     "metadata": {},
     "output_type": "execute_result"
    }
   ],
   "source": [
    "df = pd.read_csv('../data/airline_dataset.csv')\n",
    "df"
   ]
  },
  {
   "cell_type": "markdown",
   "id": "db7c24cf-ab43-4368-ae7e-afa297d82611",
   "metadata": {},
   "source": [
    "### 2 Review the data, print out a portion of the DataFrame. ###"
   ]
  },
  {
   "cell_type": "code",
   "execution_count": 59,
   "id": "9f3db525-e050-4fb2-8b65-8f25193bc307",
   "metadata": {},
   "outputs": [
    {
     "data": {
      "text/html": [
       "<div>\n",
       "<style scoped>\n",
       "    .dataframe tbody tr th:only-of-type {\n",
       "        vertical-align: middle;\n",
       "    }\n",
       "\n",
       "    .dataframe tbody tr th {\n",
       "        vertical-align: top;\n",
       "    }\n",
       "\n",
       "    .dataframe thead th {\n",
       "        text-align: right;\n",
       "    }\n",
       "</style>\n",
       "<table border=\"1\" class=\"dataframe\">\n",
       "  <thead>\n",
       "    <tr style=\"text-align: right;\">\n",
       "      <th></th>\n",
       "      <th>pct_carrier_delay</th>\n",
       "      <th>pct_atc_delay</th>\n",
       "      <th>pct_weather_delay</th>\n",
       "      <th>airline</th>\n",
       "    </tr>\n",
       "  </thead>\n",
       "  <tbody>\n",
       "    <tr>\n",
       "      <th>0</th>\n",
       "      <td>8.153226</td>\n",
       "      <td>1.971774</td>\n",
       "      <td>0.762097</td>\n",
       "      <td>American</td>\n",
       "    </tr>\n",
       "    <tr>\n",
       "      <th>1</th>\n",
       "      <td>5.959924</td>\n",
       "      <td>3.706107</td>\n",
       "      <td>1.585878</td>\n",
       "      <td>American</td>\n",
       "    </tr>\n",
       "    <tr>\n",
       "      <th>2</th>\n",
       "      <td>7.157270</td>\n",
       "      <td>2.706231</td>\n",
       "      <td>2.026706</td>\n",
       "      <td>American</td>\n",
       "    </tr>\n",
       "    <tr>\n",
       "      <th>3</th>\n",
       "      <td>12.100000</td>\n",
       "      <td>11.033333</td>\n",
       "      <td>0.000000</td>\n",
       "      <td>American</td>\n",
       "    </tr>\n",
       "    <tr>\n",
       "      <th>4</th>\n",
       "      <td>7.333333</td>\n",
       "      <td>3.365591</td>\n",
       "      <td>1.774194</td>\n",
       "      <td>American</td>\n",
       "    </tr>\n",
       "  </tbody>\n",
       "</table>\n",
       "</div>"
      ],
      "text/plain": [
       "   pct_carrier_delay  pct_atc_delay  pct_weather_delay   airline\n",
       "0           8.153226       1.971774           0.762097  American\n",
       "1           5.959924       3.706107           1.585878  American\n",
       "2           7.157270       2.706231           2.026706  American\n",
       "3          12.100000      11.033333           0.000000  American\n",
       "4           7.333333       3.365591           1.774194  American"
      ]
     },
     "execution_count": 59,
     "metadata": {},
     "output_type": "execute_result"
    }
   ],
   "source": [
    "df.head()"
   ]
  },
  {
   "cell_type": "code",
   "execution_count": 60,
   "id": "95f18380",
   "metadata": {},
   "outputs": [
    {
     "name": "stdout",
     "output_type": "stream",
     "text": [
      "(33468, 4)\n",
      "<class 'pandas.core.frame.DataFrame'>\n",
      "RangeIndex: 33468 entries, 0 to 33467\n",
      "Data columns (total 4 columns):\n",
      " #   Column             Non-Null Count  Dtype  \n",
      "---  ------             --------------  -----  \n",
      " 0   pct_carrier_delay  33440 non-null  float64\n",
      " 1   pct_atc_delay      33440 non-null  float64\n",
      " 2   pct_weather_delay  33440 non-null  float64\n",
      " 3   airline            33468 non-null  object \n",
      "dtypes: float64(3), object(1)\n",
      "memory usage: 1.0+ MB\n",
      "Empty DataFrame\n",
      "Columns: [pct_carrier_delay, pct_atc_delay, pct_weather_delay, airline]\n",
      "Index: []\n",
      "Final shape: (33440, 4)\n"
     ]
    },
    {
     "data": {
      "text/plain": [
       "pct_carrier_delay    0\n",
       "pct_atc_delay        0\n",
       "pct_weather_delay    0\n",
       "airline              0\n",
       "dtype: int64"
      ]
     },
     "execution_count": 60,
     "metadata": {},
     "output_type": "execute_result"
    }
   ],
   "source": [
    "# Data Cleaning\n",
    "\n",
    "# check data structure\n",
    "print(df.shape)\n",
    "df.info()\n",
    "\n",
    "# check missing values\n",
    "df.isna().sum()\n",
    "df = df.dropna(subset=[\"pct_weather_delay\"]) # drop if missing value\n",
    "\n",
    "#check invalid values\n",
    "invalid = df[(df['pct_weather_delay'] < 0) | (df['pct_weather_delay'] > 100)]\n",
    "print(invalid)\n",
    "df = df[(df['pct_weather_delay'] >= 0) & (df['pct_weather_delay'] <= 100)] # drop if invalid value\n",
    "\n",
    "# check cleaned data\n",
    "print(\"Final shape:\", df.shape)\n",
    "df.isna().sum()"
   ]
  },
  {
   "cell_type": "markdown",
   "id": "c2295a08-8c5b-41dc-acb3-7ad6a32aaaf4",
   "metadata": {},
   "source": [
    "### 3 What is the central tendency of the pct_weather_delay feature? ###\n",
    "1. What is the mean for the entire feature?\n",
    "2. What are the means for each airline?\n",
    "3. What is the (10%) trimmed mean for the entire feature?\n",
    "4. What is the (10%) trimmed mean for each airline?"
   ]
  },
  {
   "cell_type": "code",
   "execution_count": 61,
   "id": "7eab0bbf-412f-4716-b49c-16fd6eedab58",
   "metadata": {},
   "outputs": [
    {
     "data": {
      "text/html": [
       "<div>\n",
       "<style scoped>\n",
       "    .dataframe tbody tr th:only-of-type {\n",
       "        vertical-align: middle;\n",
       "    }\n",
       "\n",
       "    .dataframe tbody tr th {\n",
       "        vertical-align: top;\n",
       "    }\n",
       "\n",
       "    .dataframe thead th {\n",
       "        text-align: right;\n",
       "    }\n",
       "</style>\n",
       "<table border=\"1\" class=\"dataframe\">\n",
       "  <thead>\n",
       "    <tr style=\"text-align: right;\">\n",
       "      <th></th>\n",
       "      <th>Mean</th>\n",
       "      <th>Trimmed Mean</th>\n",
       "    </tr>\n",
       "    <tr>\n",
       "      <th>airline</th>\n",
       "      <th></th>\n",
       "      <th></th>\n",
       "    </tr>\n",
       "  </thead>\n",
       "  <tbody>\n",
       "    <tr>\n",
       "      <th>Alaska</th>\n",
       "      <td>0.513497</td>\n",
       "      <td>0.234498</td>\n",
       "    </tr>\n",
       "    <tr>\n",
       "      <th>American</th>\n",
       "      <td>1.122920</td>\n",
       "      <td>0.965972</td>\n",
       "    </tr>\n",
       "    <tr>\n",
       "      <th>Delta</th>\n",
       "      <td>0.680765</td>\n",
       "      <td>0.447485</td>\n",
       "    </tr>\n",
       "    <tr>\n",
       "      <th>Jet Blue</th>\n",
       "      <td>0.465327</td>\n",
       "      <td>0.303844</td>\n",
       "    </tr>\n",
       "    <tr>\n",
       "      <th>Southwest</th>\n",
       "      <td>0.512611</td>\n",
       "      <td>0.383843</td>\n",
       "    </tr>\n",
       "    <tr>\n",
       "      <th>United</th>\n",
       "      <td>0.680697</td>\n",
       "      <td>0.413050</td>\n",
       "    </tr>\n",
       "    <tr>\n",
       "      <th>Overall</th>\n",
       "      <td>0.684776</td>\n",
       "      <td>0.466343</td>\n",
       "    </tr>\n",
       "  </tbody>\n",
       "</table>\n",
       "</div>"
      ],
      "text/plain": [
       "               Mean  Trimmed Mean\n",
       "airline                          \n",
       "Alaska     0.513497      0.234498\n",
       "American   1.122920      0.965972\n",
       "Delta      0.680765      0.447485\n",
       "Jet Blue   0.465327      0.303844\n",
       "Southwest  0.512611      0.383843\n",
       "United     0.680697      0.413050\n",
       "Overall    0.684776      0.466343"
      ]
     },
     "execution_count": 61,
     "metadata": {},
     "output_type": "execute_result"
    }
   ],
   "source": [
    "overall_mean = df[\"pct_weather_delay\"].mean()\n",
    "\n",
    "airline_means = df.groupby(\"airline\")[\"pct_weather_delay\"].mean()\n",
    "\n",
    "airline_tmeans = df.groupby(\"airline\")[\"pct_weather_delay\"].apply(lambda x: trim_mean(x, 0.1))\n",
    "\n",
    "overall_tmean = trim_mean(df[\"pct_weather_delay\"], 0.1)\n",
    "\n",
    "metrics = pd.DataFrame({\n",
    "    \"Mean\": airline_means,\n",
    "    \"Trimmed Mean\": airline_tmeans\n",
    "})\n",
    "\n",
    "metrics.loc[\"Overall\"] = [overall_mean, overall_tmean]\n",
    "\n",
    "metrics"
   ]
  },
  {
   "cell_type": "markdown",
   "id": "ff7fc4d1-c7ca-4e30-b31c-227041d8b32c",
   "metadata": {},
   "source": [
    "### 4 Plot the pct_weather_delay feature to boxplots for all 6 airlines. ###"
   ]
  },
  {
   "cell_type": "code",
   "execution_count": 62,
   "id": "adb9a417-ec1f-40cc-ae21-66de6be66cdd",
   "metadata": {},
   "outputs": [
    {
     "data": {
      "image/png": "[encoded data removed]",
      "text/plain": [
       "<Figure size 1000x600 with 1 Axes>"
      ]
     },
     "metadata": {},
     "output_type": "display_data"
    }
   ],
   "source": [
    "col_y = \"pct_weather_delay\"\n",
    "col_x = \"airline\"\n",
    "\n",
    "plt.figure(figsize=(10, 6))\n",
    "sns.boxplot(data=df, x=col_x, y=col_y)\n",
    "plt.title(\"Box Plot of Percentage Weather Delay by Airline\")\n",
    "plt.xlabel(col_x)\n",
    "plt.ylabel(col_y)\n",
    "plt.xticks(rotation=30)\n",
    "plt.tight_layout()\n",
    "plt.show()\n",
    "\n"
   ]
  },
  {
   "cell_type": "markdown",
   "id": "ac187335-b848-4402-a867-2461d18afc2b",
   "metadata": {},
   "source": [
    "### Summarize the exploration.  Make some commentary on the performance of airlines due to weather delays. ###"
   ]
  },
  {
   "cell_type": "markdown",
   "id": "dbf80803-8ff5-4163-8e79-7bb3da66479e",
   "metadata": {},
   "source": [
    "**Overall performance:**  \n",
    "According to the data, overall mean of weather delay of all airlines is around 0.68% while the 10% trimmed mean is 0.46%. Trimmed mean is lower than original mean indicates that some severe weather periods like strong winds and snow (in our data it could be outliers) raise the rate of weather delay. \n",
    "\n",
    "**Airline comparison:**\n",
    "- **American Airlines** has the **highest weather-delay share** (mean 1.12%). Its boxplot proves this with a higher median and many outliers, suggesting it is most affected by severe weather.  \n",
    "- **Jet Blue** and **Alaska** have the **lowest means** (0.47% and 0.51%), with much lower trimmed means (0.30% and 0.23%). Their boxplots have short boxes and fewer extreme points, showing **stable performance with limited weather impact**.  \n",
    "- **Southwest** is also low (0.51% mean), similar to Alaska.  \n",
    "- **Delta** and **United** fall in the middle (≈0.68% means), but **United** has the most extreme outliers (up to ~35%), which explains the large gap between its mean (0.68%) and trimmed mean (0.41%).\n",
    "\n",
    "**Conclusion:**  \n",
    "Most airlines keep weather delays under 1% in typical conditions. **American** is most affected, while **Jet Blue and Alaska** are least affected and most consistent. \n",
    "\n",
    "\n"
   ]
  },
  {
   "cell_type": "markdown",
   "id": "7bf85cb4-4b01-4c65-ac0f-27956dfdaed3",
   "metadata": {},
   "source": [
    "### Rubric ###\n",
    "1. (1 point)Formatting and writing must be professionally done, and all answers/results/conclusions must be prominent.  This means removing the TODO's as well.  Replace those with your code.  \n",
    "2. (1 point) Datset is loaded into a dataframe and partially displayed.\n",
    "3. (4 points) All 6 airlines' and the overall mean and trimmed means are calculated and shown.\n",
    "4. (1 point) A box plot (or several) are displayed with the airline data.\n",
    "5. (1 point) A summarization, in prose, explains the results of the analysis."
   ]
  }
 ],
 "metadata": {
  "kernelspec": {
   "display_name": "Python 3",
   "language": "python",
   "name": "python3"
  },
  "language_info": {
   "codemirror_mode": {
    "name": "ipython",
    "version": 3
   },
   "file_extension": ".py",
   "mimetype": "text/x-python",
   "name": "python",
   "nbconvert_exporter": "python",
   "pygments_lexer": "ipython3",
   "version": "3.9.6"
  }
 },
 "nbformat": 4,
 "nbformat_minor": 5
}
