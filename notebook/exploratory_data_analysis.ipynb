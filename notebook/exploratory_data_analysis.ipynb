{
 "cells": [
  {
   "cell_type": "markdown",
   "id": "69828b3f-3a18-4b94-8e05-3caa056700ff",
   "metadata": {},
   "source": [
    "## Exploratory Data Analysis ##\n",
    "In this assignment, we will be exploring some airline data that has been collected measuring the lateness of various airlines.  Refer to the rubric below for the grading criteria.  For the below you'll need jupyter and python installed on your machine as well as matplotlib and pandas.  "
   ]
  },
  {
   "cell_type": "code",
   "execution_count": null,
   "id": "d761ff73-3e53-432d-9bb6-f1c9d820f677",
   "metadata": {},
   "outputs": [],
   "source": [
    "# TODO:"
   ]
  },
  {
   "cell_type": "markdown",
   "id": "7cc9c50a-ef93-4559-8d93-0639d84151c1",
   "metadata": {},
   "source": [
    "### 1 Load the airline_dataset.csv dataset into a DataFrame. ###"
   ]
  },
  {
   "cell_type": "code",
   "execution_count": null,
   "id": "55a7b897-0bd5-459a-8fc6-7cbc8faf75d3",
   "metadata": {},
   "outputs": [],
   "source": [
    "# TODO:"
   ]
  },
  {
   "cell_type": "markdown",
   "id": "db7c24cf-ab43-4368-ae7e-afa297d82611",
   "metadata": {},
   "source": [
    "### 2 Review the data, print out a portion of the DataFrame. ###"
   ]
  },
  {
   "cell_type": "code",
   "execution_count": null,
   "id": "9f3db525-e050-4fb2-8b65-8f25193bc307",
   "metadata": {},
   "outputs": [],
   "source": [
    "# TODO:"
   ]
  },
  {
   "cell_type": "markdown",
   "id": "c2295a08-8c5b-41dc-acb3-7ad6a32aaaf4",
   "metadata": {},
   "source": [
    "### 3 What is the central tendency of the pct_weather_delay feature? ###\n",
    "1. What is the mean for the entire feature?\n",
    "2. What are the means for each airline?\n",
    "3. What is the (10%) trimmed mean for the entire feature?\n",
    "4. What is the (10%) trimmed mean for each airline?"
   ]
  },
  {
   "cell_type": "code",
   "execution_count": null,
   "id": "7eab0bbf-412f-4716-b49c-16fd6eedab58",
   "metadata": {},
   "outputs": [],
   "source": [
    "# TODO:"
   ]
  },
  {
   "cell_type": "markdown",
   "id": "ff7fc4d1-c7ca-4e30-b31c-227041d8b32c",
   "metadata": {},
   "source": [
    "### 4 Plot the pct_weather_delay feature to boxplots for all 6 airlines. ###"
   ]
  },
  {
   "cell_type": "code",
   "execution_count": null,
   "id": "adb9a417-ec1f-40cc-ae21-66de6be66cdd",
   "metadata": {},
   "outputs": [],
   "source": [
    "# TODO:"
   ]
  },
  {
   "cell_type": "markdown",
   "id": "ac187335-b848-4402-a867-2461d18afc2b",
   "metadata": {},
   "source": [
    "### Summarize the exploration.  Make some commentary on the performance of airlines due to weather delays. ###"
   ]
  },
  {
   "cell_type": "code",
   "execution_count": null,
   "id": "dbf80803-8ff5-4163-8e79-7bb3da66479e",
   "metadata": {},
   "outputs": [],
   "source": [
    "# TOOD:"
   ]
  },
  {
   "cell_type": "markdown",
   "id": "7bf85cb4-4b01-4c65-ac0f-27956dfdaed3",
   "metadata": {},
   "source": [
    "### Rubric ###\n",
    "1. (1 point)Formatting and writing must be professionally done, and all answers/results/conclusions must be prominent.  This means removing the TODO's as well.  Replace those with your code.  \n",
    "2. (1 point) Datset is loaded into a dataframe and partially displayed.\n",
    "3. (4 points) All 6 airlines' and the overall mean and trimmed means are calculated and shown.\n",
    "4. (1 point) A box plot (or several) are displayed with the airline data.\n",
    "5. (1 point) A summarization, in prose, explains the results of the analysis."
   ]
  },
  {
   "cell_type": "code",
   "execution_count": null,
   "id": "0cd635db-015b-47df-8f90-7576a78e6c27",
   "metadata": {},
   "outputs": [],
   "source": []
  }
 ],
 "metadata": {
  "kernelspec": {
   "display_name": "Python 3 (ipykernel)",
   "language": "python",
   "name": "python3"
  },
  "language_info": {
   "codemirror_mode": {
    "name": "ipython",
    "version": 3
   },
   "file_extension": ".py",
   "mimetype": "text/x-python",
   "name": "python",
   "nbconvert_exporter": "python",
   "pygments_lexer": "ipython3",
   "version": "3.11.4"
  }
 },
 "nbformat": 4,
 "nbformat_minor": 5
}
